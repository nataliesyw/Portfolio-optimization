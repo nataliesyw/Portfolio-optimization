{
  "nbformat": 4,
  "nbformat_minor": 0,
  "metadata": {
    "kernelspec": {
      "display_name": "Python 3",
      "language": "python",
      "name": "python3"
    },
    "language_info": {
      "codemirror_mode": {
        "name": "ipython",
        "version": 3
      },
      "file_extension": ".py",
      "mimetype": "text/x-python",
      "name": "python",
      "nbconvert_exporter": "python",
      "pygments_lexer": "ipython3",
      "version": "3.7.6"
    },
    "colab": {
      "name": "run.ipynb",
      "provenance": []
    }
  },
  "cells": [
    {
      "cell_type": "markdown",
      "metadata": {
        "id": "en-istBtb2k5",
        "colab_type": "text"
      },
      "source": [
        "# Portfolio Optimization using the Efficient Frontier & Python."
      ]
    },
    {
      "cell_type": "code",
      "metadata": {
        "id": "sJdKSEcnb2k6",
        "colab_type": "code",
        "colab": {
          "base_uri": "https://localhost:8080/",
          "height": 71
        },
        "outputId": "b2b7ac35-eab9-483b-b252-824406fefbda"
      },
      "source": [
        "# Import the python libraries\n",
        "from pandas_datareader import data as web\n",
        "import pandas as pd\n",
        "import numpy as np\n",
        "from datetime import datetime\n",
        "import matplotlib.pyplot as plt\n",
        "plt.style.use('fivethirtyeight')"
      ],
      "execution_count": 4,
      "outputs": [
        {
          "output_type": "stream",
          "text": [
            "/usr/local/lib/python3.6/dist-packages/pandas_datareader/compat/__init__.py:7: FutureWarning: pandas.util.testing is deprecated. Use the functions in the public API at pandas.testing instead.\n",
            "  from pandas.util.testing import assert_frame_equal\n"
          ],
          "name": "stderr"
        }
      ]
    },
    {
      "cell_type": "code",
      "metadata": {
        "id": "3ZbW3Yceb2lC",
        "colab_type": "code",
        "colab": {}
      },
      "source": [
        "#Create fictional portfolio \n",
        "assets =  [\"FB\", \"AMZN\", \"AAPL\", \"NFLX\", \"GOOG\"]"
      ],
      "execution_count": 5,
      "outputs": []
    },
    {
      "cell_type": "code",
      "metadata": {
        "id": "z5l9WxH-b2lJ",
        "colab_type": "code",
        "colab": {
          "base_uri": "https://localhost:8080/",
          "height": 34
        },
        "outputId": "1ed27856-c198-4111-af2d-db150a0f6b43"
      },
      "source": [
        "# Assign weights to the stocks. Weights must = 1 so 0.2 for each\n",
        "weights = np.array([0.2, 0.2, 0.2, 0.2, 0.2])\n",
        "weights"
      ],
      "execution_count": 6,
      "outputs": [
        {
          "output_type": "execute_result",
          "data": {
            "text/plain": [
              "array([0.2, 0.2, 0.2, 0.2, 0.2])"
            ]
          },
          "metadata": {
            "tags": []
          },
          "execution_count": 6
        }
      ]
    },
    {
      "cell_type": "code",
      "metadata": {
        "id": "R1Po5fFIb2lN",
        "colab_type": "code",
        "colab": {}
      },
      "source": [
        "#Get the stock starting date\n",
        "stockStartDate = '2013-01-01'\n",
        "\n",
        "# Get the stocks ending date aka todays date and format it in the form YYYY-MM-DD\n",
        "today = datetime.today().strftime('%Y-%m-%d')"
      ],
      "execution_count": 7,
      "outputs": []
    },
    {
      "cell_type": "code",
      "metadata": {
        "id": "nFMb086Yb2lS",
        "colab_type": "code",
        "colab": {}
      },
      "source": [
        "#Create a dataframe to store the adjusted close price of the stocks\n",
        "df = pd.DataFrame()\n",
        "\n",
        "#Store the adjusted close price of stock into the data frame\n",
        "for stock in assets:\n",
        "    df[stock] = web.DataReader(stock,data_source='yahoo',start=stockStartDate , end=today)['Adj Close']"
      ],
      "execution_count": 8,
      "outputs": []
    },
    {
      "cell_type": "code",
      "metadata": {
        "id": "vghp1ZGjb2lZ",
        "colab_type": "code",
        "colab": {
          "base_uri": "https://localhost:8080/",
          "height": 450
        },
        "outputId": "c5d92741-bd1d-4eaf-a1f5-317688fd9b2b"
      },
      "source": [
        "df"
      ],
      "execution_count": 9,
      "outputs": [
        {
          "output_type": "execute_result",
          "data": {
            "text/html": [
              "<div>\n",
              "<style scoped>\n",
              "    .dataframe tbody tr th:only-of-type {\n",
              "        vertical-align: middle;\n",
              "    }\n",
              "\n",
              "    .dataframe tbody tr th {\n",
              "        vertical-align: top;\n",
              "    }\n",
              "\n",
              "    .dataframe thead th {\n",
              "        text-align: right;\n",
              "    }\n",
              "</style>\n",
              "<table border=\"1\" class=\"dataframe\">\n",
              "  <thead>\n",
              "    <tr style=\"text-align: right;\">\n",
              "      <th></th>\n",
              "      <th>FB</th>\n",
              "      <th>AMZN</th>\n",
              "      <th>AAPL</th>\n",
              "      <th>NFLX</th>\n",
              "      <th>GOOG</th>\n",
              "    </tr>\n",
              "    <tr>\n",
              "      <th>Date</th>\n",
              "      <th></th>\n",
              "      <th></th>\n",
              "      <th></th>\n",
              "      <th></th>\n",
              "      <th></th>\n",
              "    </tr>\n",
              "  </thead>\n",
              "  <tbody>\n",
              "    <tr>\n",
              "      <th>2013-01-02</th>\n",
              "      <td>28.000000</td>\n",
              "      <td>257.309998</td>\n",
              "      <td>68.378807</td>\n",
              "      <td>13.144286</td>\n",
              "      <td>360.274597</td>\n",
              "    </tr>\n",
              "    <tr>\n",
              "      <th>2013-01-03</th>\n",
              "      <td>27.770000</td>\n",
              "      <td>258.480011</td>\n",
              "      <td>67.515701</td>\n",
              "      <td>13.798572</td>\n",
              "      <td>360.483826</td>\n",
              "    </tr>\n",
              "    <tr>\n",
              "      <th>2013-01-04</th>\n",
              "      <td>28.760000</td>\n",
              "      <td>259.149994</td>\n",
              "      <td>65.635078</td>\n",
              "      <td>13.711429</td>\n",
              "      <td>367.607117</td>\n",
              "    </tr>\n",
              "    <tr>\n",
              "      <th>2013-01-07</th>\n",
              "      <td>29.420000</td>\n",
              "      <td>268.459991</td>\n",
              "      <td>65.249001</td>\n",
              "      <td>14.171429</td>\n",
              "      <td>366.003143</td>\n",
              "    </tr>\n",
              "    <tr>\n",
              "      <th>2013-01-08</th>\n",
              "      <td>29.059999</td>\n",
              "      <td>266.380005</td>\n",
              "      <td>65.424622</td>\n",
              "      <td>13.880000</td>\n",
              "      <td>365.280823</td>\n",
              "    </tr>\n",
              "    <tr>\n",
              "      <th>...</th>\n",
              "      <td>...</td>\n",
              "      <td>...</td>\n",
              "      <td>...</td>\n",
              "      <td>...</td>\n",
              "      <td>...</td>\n",
              "    </tr>\n",
              "    <tr>\n",
              "      <th>2020-08-03</th>\n",
              "      <td>251.960007</td>\n",
              "      <td>3111.889893</td>\n",
              "      <td>434.965759</td>\n",
              "      <td>498.619995</td>\n",
              "      <td>1474.449951</td>\n",
              "    </tr>\n",
              "    <tr>\n",
              "      <th>2020-08-04</th>\n",
              "      <td>249.830002</td>\n",
              "      <td>3138.830078</td>\n",
              "      <td>437.870514</td>\n",
              "      <td>509.640015</td>\n",
              "      <td>1464.969971</td>\n",
              "    </tr>\n",
              "    <tr>\n",
              "      <th>2020-08-05</th>\n",
              "      <td>249.119995</td>\n",
              "      <td>3205.030029</td>\n",
              "      <td>439.457642</td>\n",
              "      <td>502.109985</td>\n",
              "      <td>1473.609985</td>\n",
              "    </tr>\n",
              "    <tr>\n",
              "      <th>2020-08-06</th>\n",
              "      <td>265.279999</td>\n",
              "      <td>3225.000000</td>\n",
              "      <td>454.790009</td>\n",
              "      <td>509.079987</td>\n",
              "      <td>1500.099976</td>\n",
              "    </tr>\n",
              "    <tr>\n",
              "      <th>2020-08-07</th>\n",
              "      <td>268.440002</td>\n",
              "      <td>3167.459961</td>\n",
              "      <td>444.450012</td>\n",
              "      <td>494.730011</td>\n",
              "      <td>1494.489990</td>\n",
              "    </tr>\n",
              "  </tbody>\n",
              "</table>\n",
              "<p>1914 rows × 5 columns</p>\n",
              "</div>"
            ],
            "text/plain": [
              "                    FB         AMZN        AAPL        NFLX         GOOG\n",
              "Date                                                                    \n",
              "2013-01-02   28.000000   257.309998   68.378807   13.144286   360.274597\n",
              "2013-01-03   27.770000   258.480011   67.515701   13.798572   360.483826\n",
              "2013-01-04   28.760000   259.149994   65.635078   13.711429   367.607117\n",
              "2013-01-07   29.420000   268.459991   65.249001   14.171429   366.003143\n",
              "2013-01-08   29.059999   266.380005   65.424622   13.880000   365.280823\n",
              "...                ...          ...         ...         ...          ...\n",
              "2020-08-03  251.960007  3111.889893  434.965759  498.619995  1474.449951\n",
              "2020-08-04  249.830002  3138.830078  437.870514  509.640015  1464.969971\n",
              "2020-08-05  249.119995  3205.030029  439.457642  502.109985  1473.609985\n",
              "2020-08-06  265.279999  3225.000000  454.790009  509.079987  1500.099976\n",
              "2020-08-07  268.440002  3167.459961  444.450012  494.730011  1494.489990\n",
              "\n",
              "[1914 rows x 5 columns]"
            ]
          },
          "metadata": {
            "tags": []
          },
          "execution_count": 9
        }
      ]
    },
    {
      "cell_type": "code",
      "metadata": {
        "id": "DqccLh2pb2ld",
        "colab_type": "code",
        "colab": {}
      },
      "source": [
        "# Create the title 'Portfolio Adj Close Price History\n",
        "title = 'Portfolio Adj. Close Price History'"
      ],
      "execution_count": 10,
      "outputs": []
    },
    {
      "cell_type": "code",
      "metadata": {
        "id": "6Uj-Fbu4b2li",
        "colab_type": "code",
        "colab": {
          "base_uri": "https://localhost:8080/",
          "height": 354
        },
        "outputId": "1b055a97-6b06-4526-b471-9be29e7b0556"
      },
      "source": [
        "#Get the stocks\n",
        "my_stocks = df\n",
        "\n",
        "#Create and plot the graph\n",
        "plt.figure(figsize=(12.2,4.5)) #width = 12.2in, height = 4.5\n",
        "\n",
        "# Loop through each stock and plot the Adj Close for each day\n",
        "for c in my_stocks.columns.values:\n",
        "    plt.plot( my_stocks[c],  label=c)#plt.plot( X-Axis , Y-Axis, line_width, alpha_for_blending,  label)\n",
        "    \n",
        "plt.title(title)\n",
        "plt.xlabel('Date',fontsize=18)\n",
        "plt.ylabel('Adj. Price USD ($)',fontsize=18)\n",
        "plt.legend(my_stocks.columns.values, loc='upper left')\n",
        "plt.show()"
      ],
      "execution_count": 11,
      "outputs": [
        {
          "output_type": "display_data",
          "data": {
            "image/png": "[encoded data removed]",
            "text/plain": [
              "<Figure size 878.4x324 with 1 Axes>"
            ]
          },
          "metadata": {
            "tags": []
          }
        }
      ]
    },
    {
      "cell_type": "markdown",
      "metadata": {
        "id": "tE24CzExb2ll",
        "colab_type": "text"
      },
      "source": [
        "# Financial Calculation"
      ]
    },
    {
      "cell_type": "code",
      "metadata": {
        "id": "bXRgY_I-b2ll",
        "colab_type": "code",
        "colab": {
          "base_uri": "https://localhost:8080/",
          "height": 450
        },
        "outputId": "0a136637-4fdd-4558-d990-0a91378fe644"
      },
      "source": [
        "#Show the daily simple returns, NOTE: Formula = new_price/old_price - 1\n",
        "returns = df.pct_change()\n",
        "returns"
      ],
      "execution_count": 12,
      "outputs": [
        {
          "output_type": "execute_result",
          "data": {
            "text/html": [
              "<div>\n",
              "<style scoped>\n",
              "    .dataframe tbody tr th:only-of-type {\n",
              "        vertical-align: middle;\n",
              "    }\n",
              "\n",
              "    .dataframe tbody tr th {\n",
              "        vertical-align: top;\n",
              "    }\n",
              "\n",
              "    .dataframe thead th {\n",
              "        text-align: right;\n",
              "    }\n",
              "</style>\n",
              "<table border=\"1\" class=\"dataframe\">\n",
              "  <thead>\n",
              "    <tr style=\"text-align: right;\">\n",
              "      <th></th>\n",
              "      <th>FB</th>\n",
              "      <th>AMZN</th>\n",
              "      <th>AAPL</th>\n",
              "      <th>NFLX</th>\n",
              "      <th>GOOG</th>\n",
              "    </tr>\n",
              "    <tr>\n",
              "      <th>Date</th>\n",
              "      <th></th>\n",
              "      <th></th>\n",
              "      <th></th>\n",
              "      <th></th>\n",
              "      <th></th>\n",
              "    </tr>\n",
              "  </thead>\n",
              "  <tbody>\n",
              "    <tr>\n",
              "      <th>2013-01-02</th>\n",
              "      <td>NaN</td>\n",
              "      <td>NaN</td>\n",
              "      <td>NaN</td>\n",
              "      <td>NaN</td>\n",
              "      <td>NaN</td>\n",
              "    </tr>\n",
              "    <tr>\n",
              "      <th>2013-01-03</th>\n",
              "      <td>-0.008214</td>\n",
              "      <td>0.004547</td>\n",
              "      <td>-0.012622</td>\n",
              "      <td>0.049777</td>\n",
              "      <td>0.000581</td>\n",
              "    </tr>\n",
              "    <tr>\n",
              "      <th>2013-01-04</th>\n",
              "      <td>0.035650</td>\n",
              "      <td>0.002592</td>\n",
              "      <td>-0.027855</td>\n",
              "      <td>-0.006315</td>\n",
              "      <td>0.019760</td>\n",
              "    </tr>\n",
              "    <tr>\n",
              "      <th>2013-01-07</th>\n",
              "      <td>0.022949</td>\n",
              "      <td>0.035925</td>\n",
              "      <td>-0.005882</td>\n",
              "      <td>0.033549</td>\n",
              "      <td>-0.004363</td>\n",
              "    </tr>\n",
              "    <tr>\n",
              "      <th>2013-01-08</th>\n",
              "      <td>-0.012237</td>\n",
              "      <td>-0.007748</td>\n",
              "      <td>0.002692</td>\n",
              "      <td>-0.020565</td>\n",
              "      <td>-0.001974</td>\n",
              "    </tr>\n",
              "    <tr>\n",
              "      <th>...</th>\n",
              "      <td>...</td>\n",
              "      <td>...</td>\n",
              "      <td>...</td>\n",
              "      <td>...</td>\n",
              "      <td>...</td>\n",
              "    </tr>\n",
              "    <tr>\n",
              "      <th>2020-08-03</th>\n",
              "      <td>-0.006741</td>\n",
              "      <td>-0.016681</td>\n",
              "      <td>0.025198</td>\n",
              "      <td>0.019923</td>\n",
              "      <td>-0.005739</td>\n",
              "    </tr>\n",
              "    <tr>\n",
              "      <th>2020-08-04</th>\n",
              "      <td>-0.008454</td>\n",
              "      <td>0.008657</td>\n",
              "      <td>0.006678</td>\n",
              "      <td>0.022101</td>\n",
              "      <td>-0.006430</td>\n",
              "    </tr>\n",
              "    <tr>\n",
              "      <th>2020-08-05</th>\n",
              "      <td>-0.002842</td>\n",
              "      <td>0.021091</td>\n",
              "      <td>0.003625</td>\n",
              "      <td>-0.014775</td>\n",
              "      <td>0.005898</td>\n",
              "    </tr>\n",
              "    <tr>\n",
              "      <th>2020-08-06</th>\n",
              "      <td>0.064868</td>\n",
              "      <td>0.006231</td>\n",
              "      <td>0.034889</td>\n",
              "      <td>0.013881</td>\n",
              "      <td>0.017976</td>\n",
              "    </tr>\n",
              "    <tr>\n",
              "      <th>2020-08-07</th>\n",
              "      <td>0.011912</td>\n",
              "      <td>-0.017842</td>\n",
              "      <td>-0.022736</td>\n",
              "      <td>-0.028188</td>\n",
              "      <td>-0.003740</td>\n",
              "    </tr>\n",
              "  </tbody>\n",
              "</table>\n",
              "<p>1914 rows × 5 columns</p>\n",
              "</div>"
            ],
            "text/plain": [
              "                  FB      AMZN      AAPL      NFLX      GOOG\n",
              "Date                                                        \n",
              "2013-01-02       NaN       NaN       NaN       NaN       NaN\n",
              "2013-01-03 -0.008214  0.004547 -0.012622  0.049777  0.000581\n",
              "2013-01-04  0.035650  0.002592 -0.027855 -0.006315  0.019760\n",
              "2013-01-07  0.022949  0.035925 -0.005882  0.033549 -0.004363\n",
              "2013-01-08 -0.012237 -0.007748  0.002692 -0.020565 -0.001974\n",
              "...              ...       ...       ...       ...       ...\n",
              "2020-08-03 -0.006741 -0.016681  0.025198  0.019923 -0.005739\n",
              "2020-08-04 -0.008454  0.008657  0.006678  0.022101 -0.006430\n",
              "2020-08-05 -0.002842  0.021091  0.003625 -0.014775  0.005898\n",
              "2020-08-06  0.064868  0.006231  0.034889  0.013881  0.017976\n",
              "2020-08-07  0.011912 -0.017842 -0.022736 -0.028188 -0.003740\n",
              "\n",
              "[1914 rows x 5 columns]"
            ]
          },
          "metadata": {
            "tags": []
          },
          "execution_count": 12
        }
      ]
    },
    {
      "cell_type": "markdown",
      "metadata": {
        "id": "Fj45wskOb2lo",
        "colab_type": "text"
      },
      "source": [
        "### co-variance matrix"
      ]
    },
    {
      "cell_type": "code",
      "metadata": {
        "id": "tTxoZdvlb2lp",
        "colab_type": "code",
        "colab": {
          "base_uri": "https://localhost:8080/",
          "height": 204
        },
        "outputId": "f69e61d8-323d-455d-eb6c-b66d4ca71d5c"
      },
      "source": [
        "\"\"\"determine how much two random variables vary or move together\n",
        "The diagonal of the matrix are the variances and the other entries are the co-variances.\"\"\"\n",
        "cov_matrix_annual = returns.cov() * 252\n",
        "cov_matrix_annual"
      ],
      "execution_count": 13,
      "outputs": [
        {
          "output_type": "execute_result",
          "data": {
            "text/html": [
              "<div>\n",
              "<style scoped>\n",
              "    .dataframe tbody tr th:only-of-type {\n",
              "        vertical-align: middle;\n",
              "    }\n",
              "\n",
              "    .dataframe tbody tr th {\n",
              "        vertical-align: top;\n",
              "    }\n",
              "\n",
              "    .dataframe thead th {\n",
              "        text-align: right;\n",
              "    }\n",
              "</style>\n",
              "<table border=\"1\" class=\"dataframe\">\n",
              "  <thead>\n",
              "    <tr style=\"text-align: right;\">\n",
              "      <th></th>\n",
              "      <th>FB</th>\n",
              "      <th>AMZN</th>\n",
              "      <th>AAPL</th>\n",
              "      <th>NFLX</th>\n",
              "      <th>GOOG</th>\n",
              "    </tr>\n",
              "  </thead>\n",
              "  <tbody>\n",
              "    <tr>\n",
              "      <th>FB</th>\n",
              "      <td>0.117348</td>\n",
              "      <td>0.052715</td>\n",
              "      <td>0.042448</td>\n",
              "      <td>0.054601</td>\n",
              "      <td>0.048801</td>\n",
              "    </tr>\n",
              "    <tr>\n",
              "      <th>AMZN</th>\n",
              "      <td>0.052715</td>\n",
              "      <td>0.092741</td>\n",
              "      <td>0.036639</td>\n",
              "      <td>0.061688</td>\n",
              "      <td>0.046750</td>\n",
              "    </tr>\n",
              "    <tr>\n",
              "      <th>AAPL</th>\n",
              "      <td>0.042448</td>\n",
              "      <td>0.036639</td>\n",
              "      <td>0.078009</td>\n",
              "      <td>0.032439</td>\n",
              "      <td>0.037261</td>\n",
              "    </tr>\n",
              "    <tr>\n",
              "      <th>NFLX</th>\n",
              "      <td>0.054601</td>\n",
              "      <td>0.061688</td>\n",
              "      <td>0.032439</td>\n",
              "      <td>0.212082</td>\n",
              "      <td>0.048971</td>\n",
              "    </tr>\n",
              "    <tr>\n",
              "      <th>GOOG</th>\n",
              "      <td>0.048801</td>\n",
              "      <td>0.046750</td>\n",
              "      <td>0.037261</td>\n",
              "      <td>0.048971</td>\n",
              "      <td>0.065011</td>\n",
              "    </tr>\n",
              "  </tbody>\n",
              "</table>\n",
              "</div>"
            ],
            "text/plain": [
              "            FB      AMZN      AAPL      NFLX      GOOG\n",
              "FB    0.117348  0.052715  0.042448  0.054601  0.048801\n",
              "AMZN  0.052715  0.092741  0.036639  0.061688  0.046750\n",
              "AAPL  0.042448  0.036639  0.078009  0.032439  0.037261\n",
              "NFLX  0.054601  0.061688  0.032439  0.212082  0.048971\n",
              "GOOG  0.048801  0.046750  0.037261  0.048971  0.065011"
            ]
          },
          "metadata": {
            "tags": []
          },
          "execution_count": 13
        }
      ]
    },
    {
      "cell_type": "markdown",
      "metadata": {
        "id": "X1tXcNH1b2lr",
        "colab_type": "text"
      },
      "source": [
        "### calculate and show the portfolio variance using the formula :\n",
        "Expected portfolio variance= WT * (Covariance Matrix) * W"
      ]
    },
    {
      "cell_type": "code",
      "metadata": {
        "id": "AeUaPhjfb2ls",
        "colab_type": "code",
        "colab": {
          "base_uri": "https://localhost:8080/",
          "height": 34
        },
        "outputId": "e98f4612-3f83-407a-8636-a3d225495276"
      },
      "source": [
        "port_variance = np.dot(weights.T, np.dot(cov_matrix_annual, weights))\n",
        "port_variance"
      ],
      "execution_count": 14,
      "outputs": [
        {
          "output_type": "execute_result",
          "data": {
            "text/plain": [
              "0.059592653433027956"
            ]
          },
          "metadata": {
            "tags": []
          },
          "execution_count": 14
        }
      ]
    },
    {
      "cell_type": "markdown",
      "metadata": {
        "id": "J8kUmz5hb2lv",
        "colab_type": "text"
      },
      "source": [
        "### calculate and show the portfolio volatility using the formula :\n",
        "Expected portfolio volatility= SQRT (WT * (Covariance Matrix) * W)"
      ]
    },
    {
      "cell_type": "code",
      "metadata": {
        "id": "Szq6EFNAb2lv",
        "colab_type": "code",
        "colab": {
          "base_uri": "https://localhost:8080/",
          "height": 34
        },
        "outputId": "9bdcd2aa-af71-430e-e3d1-7346c651e41e"
      },
      "source": [
        "port_volatility = np.sqrt(port_variance)\n",
        "port_volatility"
      ],
      "execution_count": 15,
      "outputs": [
        {
          "output_type": "execute_result",
          "data": {
            "text/plain": [
              "0.24411606549555062"
            ]
          },
          "metadata": {
            "tags": []
          },
          "execution_count": 15
        }
      ]
    },
    {
      "cell_type": "markdown",
      "metadata": {
        "id": "jcCWikmNb2ly",
        "colab_type": "text"
      },
      "source": [
        "### Portfolio Annual simple return"
      ]
    },
    {
      "cell_type": "code",
      "metadata": {
        "id": "wga_UaTtb2lz",
        "colab_type": "code",
        "colab": {
          "base_uri": "https://localhost:8080/",
          "height": 34
        },
        "outputId": "cddbe979-c4bc-4380-8d57-dc41f566bfb9"
      },
      "source": [
        "portfolioSimpleAnnualReturn = np.sum(returns.mean()*weights) * 252\n",
        "portfolioSimpleAnnualReturn"
      ],
      "execution_count": 16,
      "outputs": [
        {
          "output_type": "execute_result",
          "data": {
            "text/plain": [
              "0.3637935763014299"
            ]
          },
          "metadata": {
            "tags": []
          },
          "execution_count": 16
        }
      ]
    },
    {
      "cell_type": "markdown",
      "metadata": {
        "id": "kdZUnScYb2l4",
        "colab_type": "text"
      },
      "source": [
        "### Expected annual return, volatility or risk, and variance."
      ]
    },
    {
      "cell_type": "code",
      "metadata": {
        "id": "WTwQi7WPb2l4",
        "colab_type": "code",
        "colab": {
          "base_uri": "https://localhost:8080/",
          "height": 68
        },
        "outputId": "d60e0881-c260-41d4-d0fd-1eba5ae15eb8"
      },
      "source": [
        "percent_var = str(round(port_variance, 2) * 100) + '%'\n",
        "percent_vols = str(round(port_volatility, 2) * 100) + '%'\n",
        "percent_ret = str(round(portfolioSimpleAnnualReturn, 2)*100)+'%'\n",
        "print(\"Expected annual return : \"+ percent_ret)\n",
        "print('Annual volatility/standard deviation/risk : '+percent_vols)\n",
        "print('Annual variance : '+percent_var)"
      ],
      "execution_count": 17,
      "outputs": [
        {
          "output_type": "stream",
          "text": [
            "Expected annual return : 36.0%\n",
            "Annual volatility/standard deviation/risk : 24.0%\n",
            "Annual variance : 6.0%\n"
          ],
          "name": "stdout"
        }
      ]
    },
    {
      "cell_type": "code",
      "metadata": {
        "id": "hU1p0E3bb2l8",
        "colab_type": "code",
        "colab": {
          "base_uri": "https://localhost:8080/",
          "height": 272
        },
        "outputId": "4173a6a7-d6ce-4747-b4f8-49c73d453132"
      },
      "source": [
        "pip install PyPortfolioOpt"
      ],
      "execution_count": 18,
      "outputs": [
        {
          "output_type": "stream",
          "text": [
            "Requirement already satisfied: PyPortfolioOpt in /usr/local/lib/python3.6/dist-packages (1.2.4)\n",
            "Requirement already satisfied: scipy<2.0,>=1.3 in /usr/local/lib/python3.6/dist-packages (from PyPortfolioOpt) (1.4.1)\n",
            "Requirement already satisfied: pandas>=0.19 in /usr/local/lib/python3.6/dist-packages (from PyPortfolioOpt) (1.0.5)\n",
            "Requirement already satisfied: numpy<2.0,>=1.12 in /usr/local/lib/python3.6/dist-packages (from PyPortfolioOpt) (1.18.5)\n",
            "Requirement already satisfied: cvxpy<1.1,>=1.0 in /usr/local/lib/python3.6/dist-packages (from PyPortfolioOpt) (1.0.31)\n",
            "Requirement already satisfied: python-dateutil>=2.6.1 in /usr/local/lib/python3.6/dist-packages (from pandas>=0.19->PyPortfolioOpt) (2.8.1)\n",
            "Requirement already satisfied: pytz>=2017.2 in /usr/local/lib/python3.6/dist-packages (from pandas>=0.19->PyPortfolioOpt) (2018.9)\n",
            "Requirement already satisfied: ecos>=2 in /usr/local/lib/python3.6/dist-packages (from cvxpy<1.1,>=1.0->PyPortfolioOpt) (2.0.7.post1)\n",
            "Requirement already satisfied: scs>=1.1.3 in /usr/local/lib/python3.6/dist-packages (from cvxpy<1.1,>=1.0->PyPortfolioOpt) (2.1.2)\n",
            "Requirement already satisfied: osqp>=0.4.1 in /usr/local/lib/python3.6/dist-packages (from cvxpy<1.1,>=1.0->PyPortfolioOpt) (0.6.1)\n",
            "Requirement already satisfied: multiprocess in /usr/local/lib/python3.6/dist-packages (from cvxpy<1.1,>=1.0->PyPortfolioOpt) (0.70.10)\n",
            "Requirement already satisfied: six>=1.5 in /usr/local/lib/python3.6/dist-packages (from python-dateutil>=2.6.1->pandas>=0.19->PyPortfolioOpt) (1.15.0)\n",
            "Requirement already satisfied: future in /usr/local/lib/python3.6/dist-packages (from osqp>=0.4.1->cvxpy<1.1,>=1.0->PyPortfolioOpt) (0.16.0)\n",
            "Requirement already satisfied: dill>=0.3.2 in /usr/local/lib/python3.6/dist-packages (from multiprocess->cvxpy<1.1,>=1.0->PyPortfolioOpt) (0.3.2)\n",
            "\u001b[31mERROR: Operation cancelled by user\u001b[0m\n"
          ],
          "name": "stdout"
        }
      ]
    },
    {
      "cell_type": "code",
      "metadata": {
        "id": "8OcWPEw1b2l7",
        "colab_type": "code",
        "colab": {}
      },
      "source": [
        "from pypfopt.efficient_frontier import EfficientFrontier\n",
        "from pypfopt import risk_models\n",
        "from pypfopt import expected_returns"
      ],
      "execution_count": 19,
      "outputs": []
    },
    {
      "cell_type": "code",
      "metadata": {
        "id": "VZXHnNEuc1il",
        "colab_type": "code",
        "colab": {}
      },
      "source": [
        "#Portfolio Optimization"
      ],
      "execution_count": 21,
      "outputs": []
    },
    {
      "cell_type": "markdown",
      "metadata": {
        "id": "hw7Muhmhc71S",
        "colab_type": "text"
      },
      "source": [
        "**expected returns and the annualised sample covariance matrix of daily asset returns**"
      ]
    },
    {
      "cell_type": "code",
      "metadata": {
        "id": "iGmQiPSxc-Ad",
        "colab_type": "code",
        "colab": {}
      },
      "source": [
        "mu = expected_returns.mean_historical_return(df)#returns.mean() * 252\n",
        "S = risk_models.sample_cov(df) #Get the sample covariance matrix"
      ],
      "execution_count": 20,
      "outputs": []
    },
    {
      "cell_type": "code",
      "metadata": {
        "id": "YGt-xCbpdBo2",
        "colab_type": "code",
        "colab": {
          "base_uri": "https://localhost:8080/",
          "height": 102
        },
        "outputId": "71df7f96-a963-499c-fd92-aa6d14212778"
      },
      "source": [
        "#optimize for max sharp ratio \n",
        "ef = EfficientFrontier(mu, S)\n",
        "weights = ef.max_sharpe() #Maximize the Sharpe ratio, and get the raw weights\n",
        "cleaned_weights = ef.clean_weights() \n",
        "print(cleaned_weights) #Note the weights may have some rounding error, meaning they may not add up exactly to 1 but should be close\n",
        "ef.portfolio_performance(verbose=True)"
      ],
      "execution_count": 22,
      "outputs": [
        {
          "output_type": "stream",
          "text": [
            "OrderedDict([('FB', 0.13555), ('AMZN', 0.29634), ('AAPL', 0.26205), ('NFLX', 0.30606), ('GOOG', 0.0)])\n",
            "Expected annual return: 41.3%\n",
            "Annual volatility: 26.3%\n",
            "Sharpe Ratio: 1.49\n"
          ],
          "name": "stdout"
        },
        {
          "output_type": "execute_result",
          "data": {
            "text/plain": [
              "(0.41255292546447064, 0.26341720441999966, 1.4902326760653546)"
            ]
          },
          "metadata": {
            "tags": []
          },
          "execution_count": 22
        }
      ]
    },
    {
      "cell_type": "code",
      "metadata": {
        "id": "CqDJaaAOdkRW",
        "colab_type": "code",
        "colab": {}
      },
      "source": [
        "#get the discrete allocation of each share of the stock"
      ],
      "execution_count": 23,
      "outputs": []
    },
    {
      "cell_type": "code",
      "metadata": {
        "id": "ax2QEoGsf0sz",
        "colab_type": "code",
        "colab": {
          "base_uri": "https://localhost:8080/",
          "height": 306
        },
        "outputId": "d189253b-73a0-4258-c454-e615546662e2"
      },
      "source": [
        "pip install pulp"
      ],
      "execution_count": 24,
      "outputs": [
        {
          "output_type": "stream",
          "text": [
            "Collecting pulp\n",
            "\u001b[?25l  Downloading https://files.pythonhosted.org/packages/c3/22/5743d7b5d69f84fb63a0b4925862522dbf80e82defcd0c447afb694f3fd0/PuLP-2.3-py3-none-any.whl (40.6MB)\n",
            "\u001b[K     |████████████████████████████████| 40.6MB 105kB/s \n",
            "\u001b[?25hCollecting amply>=0.1.2\n",
            "  Downloading https://files.pythonhosted.org/packages/7f/11/33cb09557ac838d9488779b79e05a2a3c1f3ce9747cd242ba68332736778/amply-0.1.2.tar.gz\n",
            "  Installing build dependencies ... \u001b[?25l\u001b[?25hdone\n",
            "  Getting requirements to build wheel ... \u001b[?25l\u001b[?25hdone\n",
            "    Preparing wheel metadata ... \u001b[?25l\u001b[?25hdone\n",
            "Requirement already satisfied: pyparsing in /usr/local/lib/python3.6/dist-packages (from amply>=0.1.2->pulp) (2.4.7)\n",
            "Requirement already satisfied: docutils>=0.3 in /usr/local/lib/python3.6/dist-packages (from amply>=0.1.2->pulp) (0.15.2)\n",
            "Building wheels for collected packages: amply\n",
            "  Building wheel for amply (PEP 517) ... \u001b[?25l\u001b[?25hdone\n",
            "  Created wheel for amply: filename=amply-0.1.2-cp36-none-any.whl size=16572 sha256=ad600f84783fa03b74f85fbaa34d38a59f47e4cb048f9dae79c2edd5667257fd\n",
            "  Stored in directory: /root/.cache/pip/wheels/84/18/f7/e5c3ed13ed5bb721763f77d4a924331d59ef115ce61c9d26eb\n",
            "Successfully built amply\n",
            "Installing collected packages: amply, pulp\n",
            "Successfully installed amply-0.1.2 pulp-2.3\n"
          ],
          "name": "stdout"
        }
      ]
    },
    {
      "cell_type": "code",
      "metadata": {
        "id": "NISzZhRsf23J",
        "colab_type": "code",
        "colab": {
          "base_uri": "https://localhost:8080/",
          "height": 51
        },
        "outputId": "4e6710e8-6bad-489f-c8c4-304ef88dc9e3"
      },
      "source": [
        "from pypfopt.discrete_allocation import DiscreteAllocation, get_latest_prices\n",
        "latest_prices = get_latest_prices(df)\n",
        "weights = cleaned_weights \n",
        "da = DiscreteAllocation(weights, latest_prices, total_portfolio_value=15000)\n",
        "allocation, leftover = da.lp_portfolio()\n",
        "print(\"Discrete allocation:\", allocation)\n",
        "print(\"Funds remaining: ${:.2f}\".format(leftover))"
      ],
      "execution_count": 25,
      "outputs": [
        {
          "output_type": "stream",
          "text": [
            "Discrete allocation: {'FB': 8.0, 'AMZN': 1.0, 'AAPL': 9.0, 'NFLX': 10.0}\n",
            "Funds remaining: $737.67\n"
          ],
          "name": "stdout"
        }
      ]
    },
    {
      "cell_type": "code",
      "metadata": {
        "id": "HqPu0Kfsf9lY",
        "colab_type": "code",
        "colab": {}
      },
      "source": [
        ""
      ],
      "execution_count": null,
      "outputs": []
    }
  ]
}